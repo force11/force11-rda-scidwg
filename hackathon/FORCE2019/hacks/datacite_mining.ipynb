{
 "cells": [
  {
   "cell_type": "markdown",
   "metadata": {},
   "source": [
    "# Preamble"
   ]
  },
  {
   "cell_type": "code",
   "execution_count": 1,
   "metadata": {
    "collapsed": true
   },
   "outputs": [],
   "source": [
    "# For querying the API (need to install python3-requests on your system first)\n",
    "import requests\n",
    "\n",
    "# For loading the dataset\n",
    "import os\n",
    "import gzip\n",
    "import json\n",
    "\n",
    "# Python utility libraries for handling lists\n",
    "import itertools\n",
    "import collections\n",
    "\n",
    "# Imports the \"pprint\" function, which pretty-prints large objects\n",
    "from pprint import pprint"
   ]
  },
  {
   "cell_type": "markdown",
   "metadata": {},
   "source": [
    "## Getting the dataset\n",
    "\n",
    "First, we need to download the data from DataCite's API. This will take some time. We will also save it locally so we don't need to re-download it next time."
   ]
  },
  {
   "cell_type": "code",
   "execution_count": 2,
   "metadata": {
    "collapsed": false
   },
   "outputs": [],
   "source": [
    "DATASET_LOCATION = './datacite_software.json.gz'\n"
   ]
  },
  {
   "cell_type": "code",
   "execution_count": 3,
   "metadata": {
    "collapsed": false
   },
   "outputs": [],
   "source": [
    "if os.path.isfile(DATASET_LOCATION):\n",
    "    # We already have a cached copy of the datacite on the filesystem,\n",
    "    # let's use it\n",
    "    with gzip.open(DATASET_LOCATION, 'rt') as fd:\n",
    "        data = json.load(fd)\n",
    "else:\n",
    "    # We don't already have a cached copy of the dataset, let's download\n",
    "    # it from DataCite\n",
    "    \n",
    "    # Initial URL; it will get all objects on datasite whose type is \"Software\"\n",
    "    url = 'https://api.datacite.org/dois?query=types.resourceTypeGeneral:Software&page[size]=1000&page[cursor]=1'\n",
    "\n",
    "    # We'll put all the results in this list\n",
    "    data = []\n",
    "\n",
    "    while True:\n",
    "        # Send the request\n",
    "        headers = {'accept': 'application/vnd.api+json'}\n",
    "        print('Downloading {}'.format(url))\n",
    "        response = requests.get(url, headers=headers)\n",
    "\n",
    "        # Parse results and add them to the set\n",
    "        j = response.json()\n",
    "        data.extend(j['data'])\n",
    "\n",
    "        # Finished?\n",
    "        if 'next' not in j['links'] or url == j['links']['next']:\n",
    "            break\n",
    "\n",
    "        # Continue with next URL\n",
    "        url = j['links']['next']\n",
    "    print('Finished downloading dataset.')\n",
    "\n",
    "    # Write the dataset to the filesystem so we can re-use it later\n",
    "    with gzip.open(DATASET_LOCATION, 'wt') as fd:\n",
    "        json.dump(data, fd)\n",
    "        \n",
    "all_dois = {x['id'] for x in data}"
   ]
  },
  {
   "cell_type": "code",
   "execution_count": 4,
   "metadata": {
    "collapsed": false
   },
   "outputs": [
    {
     "name": "stdout",
     "output_type": "stream",
     "text": [
      "Number of objects in dataset: 107229\n"
     ]
    }
   ],
   "source": [
    "print('Number of objects in dataset: {}'.format(len(data)))"
   ]
  },
  {
   "cell_type": "code",
   "execution_count": 5,
   "metadata": {
    "collapsed": false
   },
   "outputs": [
    {
     "name": "stdout",
     "output_type": "stream",
     "text": [
      "{'attributes': {'container': {},\n",
      "                'contentUrl': None,\n",
      "                'contributors': [{'affiliation': ['Leibniz Institute of Plant '\n",
      "                                                  'Genetics and Crop Plant '\n",
      "                                                  'Research (IPK), Seeland OT '\n",
      "                                                  'Gatersleben, Corrensstraße '\n",
      "                                                  '3, 06466, Germany'],\n",
      "                                  'contributorType': 'ProjectMember',\n",
      "                                  'familyName': 'Friedrich',\n",
      "                                  'givenName': 'Christian',\n",
      "                                  'name': 'Friedrich, Christian',\n",
      "                                  'nameType': 'Personal'},\n",
      "                                 {'affiliation': ['Leibniz Institute of Plant '\n",
      "                                                  'Genetics and Crop Plant '\n",
      "                                                  'Research (IPK), Seeland OT '\n",
      "                                                  'Gatersleben, Corrensstraße '\n",
      "                                                  '3, 06466, Germany'],\n",
      "                                  'contributorType': 'ProjectMember',\n",
      "                                  'familyName': 'Steuernagel',\n",
      "                                  'givenName': 'Burkhard',\n",
      "                                  'name': 'Steuernagel, Burkhard',\n",
      "                                  'nameIdentifiers': [{'nameIdentifier': 'https://orcid.org/0000-0002-8284-7728',\n",
      "                                                       'nameIdentifierScheme': 'ORCID'}],\n",
      "                                  'nameType': 'Personal'},\n",
      "                                 {'affiliation': ['Leibniz Institute of Plant '\n",
      "                                                  'Genetics and Crop Plant '\n",
      "                                                  'Research (IPK), Seeland OT '\n",
      "                                                  'Gatersleben, Corrensstraße '\n",
      "                                                  '3, 06466, Germany'],\n",
      "                                  'contributorType': 'ProjectMember',\n",
      "                                  'familyName': 'Weise',\n",
      "                                  'givenName': 'Stephan',\n",
      "                                  'name': 'Weise, Stephan',\n",
      "                                  'nameIdentifiers': [{'nameIdentifier': 'https://orcid.org/0000-0003-4031-9131',\n",
      "                                                       'nameIdentifierScheme': 'ORCID'}],\n",
      "                                  'nameType': 'Personal'}],\n",
      "                'created': '2011-09-07T14:53:02.000Z',\n",
      "                'creators': [{'affiliation': ['Leibniz Institute of Plant '\n",
      "                                              'Genetics and Crop Plant '\n",
      "                                              'Research (IPK), Seeland OT '\n",
      "                                              'Gatersleben, Corrensstraße 3, '\n",
      "                                              '06466, Germany'],\n",
      "                              'familyName': 'Colmsee',\n",
      "                              'givenName': 'Christian',\n",
      "                              'name': 'Colmsee, Christian',\n",
      "                              'nameIdentifiers': [{'nameIdentifier': 'https://orcid.org/0000-0003-4387-4923',\n",
      "                                                   'nameIdentifierScheme': 'ORCID'}],\n",
      "                              'nameType': 'Personal'},\n",
      "                             {'affiliation': ['Leibniz Institute of Plant '\n",
      "                                              'Genetics and Crop Plant '\n",
      "                                              'Research (IPK), Seeland OT '\n",
      "                                              'Gatersleben, Corrensstraße 3, '\n",
      "                                              '06466, Germany'],\n",
      "                              'familyName': 'Flemming',\n",
      "                              'givenName': 'Steffen',\n",
      "                              'name': 'Flemming, Steffen',\n",
      "                              'nameType': 'Personal'},\n",
      "                             {'affiliation': ['Leibniz Institute of Plant '\n",
      "                                              'Genetics and Crop Plant '\n",
      "                                              'Research (IPK), Seeland OT '\n",
      "                                              'Gatersleben, Corrensstraße 3, '\n",
      "                                              '06466, Germany'],\n",
      "                              'familyName': 'Klapperstück',\n",
      "                              'givenName': 'Matthias',\n",
      "                              'name': 'Klapperstück, Matthias',\n",
      "                              'nameType': 'Personal'},\n",
      "                             {'affiliation': ['Leibniz Institute of Plant '\n",
      "                                              'Genetics and Crop Plant '\n",
      "                                              'Research (IPK), Seeland OT '\n",
      "                                              'Gatersleben, Corrensstraße 3, '\n",
      "                                              '06466, Germany'],\n",
      "                              'familyName': 'Lange',\n",
      "                              'givenName': 'Matthias',\n",
      "                              'name': 'Lange, Matthias',\n",
      "                              'nameIdentifiers': [{'nameIdentifier': 'https://orcid.org/0000-0002-4316-078X',\n",
      "                                                   'nameIdentifierScheme': 'ORCID'}],\n",
      "                              'nameType': 'Personal'},\n",
      "                             {'affiliation': ['Leibniz Institute of Plant '\n",
      "                                              'Genetics and Crop Plant '\n",
      "                                              'Research (IPK), Seeland OT '\n",
      "                                              'Gatersleben, Corrensstraße 3, '\n",
      "                                              '06466, Germany'],\n",
      "                              'familyName': 'Scholz',\n",
      "                              'givenName': 'Uwe',\n",
      "                              'name': 'Scholz, Uwe',\n",
      "                              'nameIdentifiers': [{'nameIdentifier': 'https://orcid.org/0000-0001-6113-3518',\n",
      "                                                   'nameIdentifierScheme': 'ORCID'}],\n",
      "                              'nameType': 'Personal'}],\n",
      "                'dates': [{'date': '2011-09-07', 'dateType': 'Valid'},\n",
      "                          {'date': '2011-09-09', 'dateType': 'Accepted'},\n",
      "                          {'date': '2011', 'dateType': 'Issued'}],\n",
      "                'descriptions': [{'description': 'Source code for the '\n",
      "                                                 'LimsLight primary data '\n",
      "                                                 'management system',\n",
      "                                  'descriptionType': 'Other'}],\n",
      "                'doi': '10.5447/ipk/2011/0',\n",
      "                'formats': ['application/zip'],\n",
      "                'fundingReferences': [],\n",
      "                'geoLocations': [],\n",
      "                'identifiers': [{'identifier': 'https://doi.org/10.5447/ipk/2011/0',\n",
      "                                 'identifierType': 'DOI'}],\n",
      "                'isActive': True,\n",
      "                'language': 'eng',\n",
      "                'metadataVersion': 18,\n",
      "                'publicationYear': 2011,\n",
      "                'published': '2011',\n",
      "                'publisher': 'e!DAL - Plant Genomics and Phenomics Research '\n",
      "                             'Data Repository (PGP), IPK Gatersleben, Seeland '\n",
      "                             'OT Gatersleben, Corrensstraße 3, 06466, Germany',\n",
      "                'reason': None,\n",
      "                'registered': '2011-09-07T14:53:02.000Z',\n",
      "                'relatedIdentifiers': [],\n",
      "                'rightsList': [{'rights': 'GNU GENERAL PUBLIC LICENSE Version '\n",
      "                                          '2, June 1991'}],\n",
      "                'schemaVersion': 'http://datacite.org/schema/kernel-4',\n",
      "                'sizes': ['2.2 MB'],\n",
      "                'source': 'mds',\n",
      "                'state': 'findable',\n",
      "                'subjects': [{'subject': 'bioinformatics'},\n",
      "                             {'subject': 'source code'},\n",
      "                             {'subject': 'database'},\n",
      "                             {'subject': 'LIMS'},\n",
      "                             {'subject': 'primary data'}],\n",
      "                'titles': [{'title': 'A case study for efficient management of '\n",
      "                                     'high throughput primary lab data'},\n",
      "                           {'title': 'source code', 'titleType': 'Subtitle'}],\n",
      "                'types': {'bibtex': 'misc',\n",
      "                          'citeproc': 'article',\n",
      "                          'resourceType': 'source code',\n",
      "                          'resourceTypeGeneral': 'Software',\n",
      "                          'ris': 'COMP',\n",
      "                          'schemaOrg': 'SoftwareSourceCode'},\n",
      "                'updated': '2019-08-02T01:31:00.000Z',\n",
      "                'url': 'https://doi.ipk-gatersleben.de/DOI/14f89a21-e457-4a88-aa35-fc4018c92ec4/f3fe4501-240b-42a8-862c-619fb79628ef/2',\n",
      "                'version': None},\n",
      " 'id': '10.5447/ipk/2011/0',\n",
      " 'relationships': {'client': {'data': {'id': 'tib.ipk', 'type': 'clients'}}},\n",
      " 'type': 'dois'}\n"
     ]
    }
   ],
   "source": [
    "# Print the first object in the dataset\n",
    "pprint(data[0])"
   ]
  },
  {
   "cell_type": "markdown",
   "metadata": {},
   "source": [
    "# Relationship between software and versions\n",
    "\n",
    "DataCite considers \"software\" both the software itself and each of its versions/release. Fortunately, there are references between the two."
   ]
  },
  {
   "cell_type": "code",
   "execution_count": 6,
   "metadata": {
    "collapsed": true
   },
   "outputs": [],
   "source": [
    "# We can get the set of all DOIs that are target of an \"IsVersionOf\":\n",
    "target_of_IsVersionOf = set()\n",
    "for obj in data:\n",
    "    if obj['attributes']['relatedIdentifiers']:\n",
    "        for relation in obj['attributes']['relatedIdentifiers']:\n",
    "            if relation['relationType'] == 'IsVersionOf':\n",
    "                target_of_IsVersionOf.add(relation['relatedIdentifier'])"
   ]
  },
  {
   "cell_type": "code",
   "execution_count": 7,
   "metadata": {
    "collapsed": false
   },
   "outputs": [
    {
     "name": "stdout",
     "output_type": "stream",
     "text": [
      "22962\n"
     ]
    }
   ],
   "source": [
    "# Count them:\n",
    "print(len(target_of_IsVersionOf))"
   ]
  },
  {
   "cell_type": "code",
   "execution_count": 8,
   "metadata": {
    "collapsed": true
   },
   "outputs": [],
   "source": [
    "# We can also get the set of all DOIs which have an \"HasVersion\" relationship:\n",
    "has_version = set()\n",
    "for obj in data:\n",
    "    if obj['attributes']['relatedIdentifiers']:\n",
    "        if any(relation['relationType'] == 'HasVersion' for relation in obj['attributes']['relatedIdentifiers']):\n",
    "            has_version.add(obj['id']) "
   ]
  },
  {
   "cell_type": "code",
   "execution_count": 9,
   "metadata": {
    "collapsed": false
   },
   "outputs": [
    {
     "name": "stdout",
     "output_type": "stream",
     "text": [
      "22788\n"
     ]
    }
   ],
   "source": [
    "# There are slightly less:\n",
    "print(len(has_version))"
   ]
  },
  {
   "cell_type": "code",
   "execution_count": 10,
   "metadata": {
    "collapsed": false
   },
   "outputs": [
    {
     "name": "stdout",
     "output_type": "stream",
     "text": [
      "{'10.5281/zenodo.1312404'}\n"
     ]
    }
   ],
   "source": [
    "# There is one in the first set that is not in the second one (because its version is not publicly available):\n",
    "print(has_version - target_of_IsVersionOf)"
   ]
  },
  {
   "cell_type": "code",
   "execution_count": 11,
   "metadata": {
    "collapsed": false
   },
   "outputs": [
    {
     "name": "stdout",
     "output_type": "stream",
     "text": [
      "175\n"
     ]
    }
   ],
   "source": [
    "# There are 175 the other way around:\n",
    "missing = target_of_IsVersionOf - has_version\n",
    "print(len(missing))"
   ]
  },
  {
   "cell_type": "code",
   "execution_count": 12,
   "metadata": {
    "collapsed": false
   },
   "outputs": [
    {
     "name": "stdout",
     "output_type": "stream",
     "text": [
      "[[{'relatedIdentifier': 'https://github.com/opencobra/cobratoolbox/tree/v2.0.0',\n",
      "   'relatedIdentifierType': 'URL',\n",
      "   'relationType': 'IsSupplementTo'},\n",
      "  {'relatedIdentifier': '10.5281/zenodo.268399',\n",
      "   'relatedIdentifierType': 'DOI',\n",
      "   'relationType': 'HasPart'}],\n",
      " [{'relatedIdentifier': '10.1016/j.jprocont.2007.07.006',\n",
      "   'relatedIdentifierType': 'DOI',\n",
      "   'relationType': 'Cites'},\n",
      "  {'relatedIdentifier': '10.5281/zenodo.888135',\n",
      "   'relatedIdentifierType': 'DOI',\n",
      "   'relationType': 'HasPart'}],\n",
      " [{'relatedIdentifier': 'https://github.com/sbmlteam/sbml-test-suite/tree/3.3.0',\n",
      "   'relatedIdentifierType': 'URL',\n",
      "   'relationType': 'IsSupplementTo'},\n",
      "  {'relatedIdentifier': '10.5281/zenodo.1112521',\n",
      "   'relatedIdentifierType': 'DOI',\n",
      "   'relationType': 'HasPart'}],\n",
      " [{'relatedIdentifier': 'https://github.com/ancolli/concLaminarTurbulentFoam/tree/v1.0.2',\n",
      "   'relatedIdentifierType': 'URL',\n",
      "   'relationType': 'IsSupplementTo'},\n",
      "  {'relatedIdentifier': '10.5281/zenodo.1145874',\n",
      "   'relatedIdentifierType': 'DOI',\n",
      "   'relationType': 'HasPart'}],\n",
      " [{'relatedIdentifier': 'https://github.com/albansouche/Open-GeoNabla/tree/v0.1',\n",
      "   'relatedIdentifierType': 'URL',\n",
      "   'relationType': 'IsSupplementTo'},\n",
      "  {'relatedIdentifier': '10.5281/zenodo.1173102',\n",
      "   'relatedIdentifierType': 'DOI',\n",
      "   'relationType': 'HasPart'},\n",
      "  {'relatedIdentifier': '10.5281/zenodo.1173155',\n",
      "   'relatedIdentifierType': 'DOI',\n",
      "   'relationType': 'HasPart'}],\n",
      " [{'relatedIdentifier': 'https://github.com/heinonmatti/sms-persuasion/tree/v1.0',\n",
      "   'relatedIdentifierType': 'URL',\n",
      "   'relationType': 'IsSupplementTo'},\n",
      "  {'relatedIdentifier': '10.5281/zenodo.1182756',\n",
      "   'relatedIdentifierType': 'DOI',\n",
      "   'relationType': 'HasPart'}]]\n"
     ]
    }
   ],
   "source": [
    "# For some of them, it's because they use an \"HasPart\" property instead of \"HasVersion\":\n",
    "pprint([x['attributes']['relatedIdentifiers'] for x in data if x['id'] in missing])"
   ]
  },
  {
   "cell_type": "code",
   "execution_count": 13,
   "metadata": {
    "collapsed": false
   },
   "outputs": [
    {
     "name": "stdout",
     "output_type": "stream",
     "text": [
      "10.5281/zenodo.2532876\n"
     ]
    }
   ],
   "source": [
    "# The other ones are missing from the dataset, because they are\n",
    "# not software (eg. regular dataset).\n",
    "# They are referenced because some of their versions is\n",
    "# (probably erroneously) marked as a software\n",
    "\n",
    "# Let's pick one and analyze it:\n",
    "example_missing_doi = list(missing - all_dois)[0]\n",
    "print(example_missing_doi)"
   ]
  },
  {
   "cell_type": "code",
   "execution_count": 14,
   "metadata": {
    "collapsed": false
   },
   "outputs": [
    {
     "name": "stdout",
     "output_type": "stream",
     "text": [
      "[{'relatedIdentifier': 'https://github.com/jlaaser/pogil-polymers/tree/v0.1.0',\n",
      "  'relatedIdentifierType': 'URL',\n",
      "  'relationType': 'IsSupplementTo'},\n",
      " {'relatedIdentifier': '10.5281/zenodo.2532877',\n",
      "  'relatedIdentifierType': 'DOI',\n",
      "  'relationType': 'HasVersion'},\n",
      " {'relatedIdentifier': '10.5281/zenodo.2538840',\n",
      "  'relatedIdentifierType': 'DOI',\n",
      "  'relationType': 'HasVersion'},\n",
      " {'relatedIdentifier': '10.5281/zenodo.3333941',\n",
      "  'relatedIdentifierType': 'DOI',\n",
      "  'relationType': 'HasVersion'},\n",
      " {'relatedIdentifier': '10.5281/zenodo.3333942',\n",
      "  'relatedIdentifierType': 'DOI',\n",
      "  'relationType': 'HasVersion'},\n",
      " {'relatedIdentifier': '10.5281/zenodo.3344564',\n",
      "  'relatedIdentifierType': 'DOI',\n",
      "  'relationType': 'HasVersion'},\n",
      " {'relatedIdentifier': '10.5281/zenodo.3344565',\n",
      "  'relatedIdentifierType': 'DOI',\n",
      "  'relationType': 'HasVersion'}]\n"
     ]
    }
   ],
   "source": [
    "# Here are its relationships:\n",
    "example_missing = requests.get('https://api.datacite.org/dois/' + example_missing_doi).json()['data']\n",
    "pprint(example_missing['attributes']['relatedIdentifiers'])"
   ]
  },
  {
   "cell_type": "code",
   "execution_count": 15,
   "metadata": {
    "collapsed": false
   },
   "outputs": [
    {
     "name": "stdout",
     "output_type": "stream",
     "text": [
      "InteractiveResource\n",
      "Software\n",
      "Software\n",
      "Software\n",
      "Software\n",
      "InteractiveResource\n"
     ]
    }
   ],
   "source": [
    "# Let's fetch its relationships' type:\n",
    "for relation in example_missing['attributes']['relatedIdentifiers']:\n",
    "    if relation['relatedIdentifierType'] == 'DOI':\n",
    "        obj = requests.get('https://api.datacite.org/dois/' + relation['relatedIdentifier']).json()['data']\n",
    "        print(obj['attributes']['types']['resourceTypeGeneral'])"
   ]
  },
  {
   "cell_type": "markdown",
   "metadata": {},
   "source": [
    "# Analyzing DOI sources"
   ]
  },
  {
   "cell_type": "code",
   "execution_count": 16,
   "metadata": {
    "collapsed": false
   },
   "outputs": [
    {
     "name": "stdout",
     "output_type": "stream",
     "text": [
      "Counter({'cern.zenodo': 89175,\n",
      "         'figshare.ars': 7009,\n",
      "         'ncicbiit.nciphub': 3156,\n",
      "         'purdue.hubzero': 2669,\n",
      "         'osti.doe': 1126,\n",
      "         'ocean.ocean': 839,\n",
      "         'kim.openkim': 529,\n",
      "         'brainl.iu': 239,\n",
      "         'ands.centre-8': 213,\n",
      "         'crui.infncnaf': 196,\n",
      "         'tind.caltech': 177,\n",
      "         'ethz.da-rd': 172,\n",
      "         'ands.centre41': 128,\n",
      "         'cdl.uci': 120,\n",
      "         'tib.dagst': 100,\n",
      "         'usgs.prod': 94,\n",
      "         'ands.centre13': 82,\n",
      "         'bl.stfc': 76,\n",
      "         'bl.shef': 71,\n",
      "         'tib.gfz': 51,\n",
      "         'cul.columbia': 49,\n",
      "         'doinz.nzau': 47,\n",
      "         'umich.rsclid': 46,\n",
      "         'bl.ed': 38,\n",
      "         'ands.centre-3': 34,\n",
      "         'iu.bl': 32,\n",
      "         'umd.lib': 30,\n",
      "         'dartlib.crawdad': 30,\n",
      "         'comses.cml': 24,\n",
      "         'tib.hzdr': 24,\n",
      "         'bl.lboro': 24,\n",
      "         'bl.strath': 24,\n",
      "         'ucar.ucar': 24,\n",
      "         'crui.unict': 23,\n",
      "         'bl.cam': 22,\n",
      "         'figshare.epa': 22,\n",
      "         'brown.bdr': 19,\n",
      "         'cdl.ucsb': 17,\n",
      "         'cern.opendata': 17,\n",
      "         'bl.brunel': 17,\n",
      "         'bl.cran': 16,\n",
      "         'csic.digital': 16,\n",
      "         'tib.fdmuh': 14,\n",
      "         'dk.dtic': 13,\n",
      "         'inist.ipsl': 12,\n",
      "         'ands.centre49': 12,\n",
      "         'tib.ipk': 11,\n",
      "         'figshare.orcid': 11,\n",
      "         'figshare.uct': 10,\n",
      "         'bl.open': 10,\n",
      "         'bl.durham': 8,\n",
      "         'illinois.rescom': 8,\n",
      "         'tib.mpdl': 8,\n",
      "         'bl.cardiff': 8,\n",
      "         'figshare.sussex': 8,\n",
      "         'ands.centre55': 7,\n",
      "         'figshare.janelia': 7,\n",
      "         'datacite.datacite': 7,\n",
      "         'figshare.g3': 6,\n",
      "         'cornell.library': 6,\n",
      "         'cdl.ucb': 6,\n",
      "         'figshare.cardiffm': 6,\n",
      "         'tib.hu-edoc': 6,\n",
      "         'bl.salford': 6,\n",
      "         'bl.standrew': 5,\n",
      "         'nsidc.datactr': 5,\n",
      "         'physiont.physiont': 5,\n",
      "         'inist.inra': 5,\n",
      "         'lmu.ub': 5,\n",
      "         'mla.hc': 5,\n",
      "         'bl.leeds': 4,\n",
      "         'tib.ista': 4,\n",
      "         'inist.omictool': 4,\n",
      "         'bl.abdn': 4,\n",
      "         'bl.ucld': 4,\n",
      "         'cdl.ucla': 4,\n",
      "         'bl.bath': 4,\n",
      "         'tib.ulbd': 4,\n",
      "         'tib.tub': 4,\n",
      "         'rutgers.lib': 4,\n",
      "         'kaust.kaustrepo': 4,\n",
      "         'delft.uva': 4,\n",
      "         'bl.reading': 4,\n",
      "         'sul.sdr': 4,\n",
      "         'dk.aau': 4,\n",
      "         'figshare.test': 3,\n",
      "         'umn.drum': 3,\n",
      "         'viva.vt': 3,\n",
      "         'tib.dlr-kn': 3,\n",
      "         'inist.cirad': 3,\n",
      "         'bl.qub': 3,\n",
      "         'tib.g-node': 3,\n",
      "         'bl.aston': 3,\n",
      "         'cisti.maclib': 3,\n",
      "         'gdcc.odum-library': 3,\n",
      "         'tib.zih': 3,\n",
      "         'nist.admin': 3,\n",
      "         'figshare.lincoln': 2,\n",
      "         'purdue.purduelib': 2,\n",
      "         'figshare.sage': 2,\n",
      "         'cdl.ucsc': 2,\n",
      "         'bl.bathspa': 2,\n",
      "         'dk.ku': 2,\n",
      "         'figshare.eur': 2,\n",
      "         'wustl.lib': 2,\n",
      "         'zbmed.zfmk': 2,\n",
      "         'figshare.asha': 2,\n",
      "         'doinz.landcare': 2,\n",
      "         'figshare.city': 2,\n",
      "         'tib.wias': 2,\n",
      "         'tsinghua.ngac': 2,\n",
      "         'tib.iow': 2,\n",
      "         'ands.centre25': 2,\n",
      "         'figshare.genetics': 2,\n",
      "         'bl.dmu': 2,\n",
      "         'gesis.iqb': 2,\n",
      "         'figshare.lest': 2,\n",
      "         'bl.mmu': 2,\n",
      "         'crui.inaf': 2,\n",
      "         'bl.rhul': 2,\n",
      "         'bl.surrey': 2,\n",
      "         'psu.scholar': 2,\n",
      "         'delft.greynet': 1,\n",
      "         'gdcc.jhu': 1,\n",
      "         'tib.repod': 1,\n",
      "         'osti.usdaadc': 1,\n",
      "         'ucar.eol': 1,\n",
      "         'ghsl.galter': 1,\n",
      "         'crui.gem': 1,\n",
      "         'bl.marineie': 1,\n",
      "         'orbis.osu': 1,\n",
      "         'bl.hwu': 1,\n",
      "         'tib.dlr-pa': 1,\n",
      "         'bl.qmul': 1,\n",
      "         'ands.centre59': 1,\n",
      "         'sagebio.synapse': 1,\n",
      "         'uky.lib': 1,\n",
      "         'tib.zib': 1,\n",
      "         'orbis.uwl': 1,\n",
      "         'cdl.cdl': 1,\n",
      "         'tib.oparu': 1,\n",
      "         'delft.bira': 1,\n",
      "         'inist.ill': 1,\n",
      "         'dryad.dryad': 1,\n",
      "         'ethz.wsl': 1,\n",
      "         'ands.centre53': 1,\n",
      "         'inist.aeris': 1,\n",
      "         'crui.ethernet': 1,\n",
      "         'orbis.uoregon': 1,\n",
      "         'und.library': 1,\n",
      "         'osti.dotntl': 1,\n",
      "         'tib.radar': 1,\n",
      "         'sml.cyverse': 1,\n",
      "         'uutah.marriott': 1,\n",
      "         'caltech.library': 1,\n",
      "         'viva.vcu': 1,\n",
      "         'ands.centre28': 1,\n",
      "         'nu.arch': 1,\n",
      "         'viva.gmu': 1,\n",
      "         'dcco.wyoming': 1,\n",
      "         'nrf.saeon': 1,\n",
      "         'dk.geus': 1,\n",
      "         'ethz.e-coll': 1,\n",
      "         'bl.bham': 1,\n",
      "         'tib.zalf': 1,\n",
      "         'iris.iris': 1,\n",
      "         'eawag.rdm': 1,\n",
      "         'uml.richter': 1})\n"
     ]
    }
   ],
   "source": [
    "pprint(collections.Counter(obj['relationships']['client']['data']['id'] for obj in data))"
   ]
  },
  {
   "cell_type": "markdown",
   "metadata": {},
   "source": [
    "# Analyzing titles"
   ]
  },
  {
   "cell_type": "code",
   "execution_count": 17,
   "metadata": {
    "collapsed": false
   },
   "outputs": [
    {
     "name": "stdout",
     "output_type": "stream",
     "text": [
      "107229\n"
     ]
    }
   ],
   "source": [
    "list_of_titles = [obj['attributes']['titles'][0]['title'] for obj in data]\n",
    "print(len(list_of_titles))  # Same number as the dataset size"
   ]
  },
  {
   "cell_type": "code",
   "execution_count": 18,
   "metadata": {
    "collapsed": false
   },
   "outputs": [
    {
     "name": "stdout",
     "output_type": "stream",
     "text": [
      "73197\n"
     ]
    }
   ],
   "source": [
    "# Number of unique titles:\n",
    "print(len(set(list_of_titles)))"
   ]
  },
  {
   "cell_type": "code",
   "execution_count": 19,
   "metadata": {
    "collapsed": false
   },
   "outputs": [
    {
     "name": "stdout",
     "output_type": "stream",
     "text": [
      "[('buddhi1980/mandelbulber2: Continuous build', 121),\n",
      " ('Modules for Experiments in Stellar Astrophysics (MESA)', 86),\n",
      " ('Test', 77),\n",
      " ('Berkeley Computational Nanoscience Class Tools', 52),\n",
      " ('Sugaraid', 51),\n",
      " ('Polymer Modeler', 43),\n",
      " ('DCM - A Software Platform for Advanced 3D Materials Modelling, '\n",
      "  'Characterisation and Visualization',\n",
      "  42),\n",
      " ('First Release', 37),\n",
      " ('Band Structure Lab', 35),\n",
      " ('samapriya/porder: porder: Simple CLI for Planet ordersV2 API', 34)]\n"
     ]
    }
   ],
   "source": [
    "# Most \"popular\" titles:\n",
    "counter = collections.Counter(list_of_titles)\n",
    "pprint(counter.most_common(10))"
   ]
  },
  {
   "cell_type": "markdown",
   "metadata": {},
   "source": [
    "## Project uniqueness\n",
    "\n",
    "As we saw, multiple \"software\" objects are different version of the same software, and the software itself. There is also the possibility of having multiple objects corresponding to the same software. It is not easy to find those, but we can do a coarse approximation by deduplicating by project name on the most popular software sources."
   ]
  },
  {
   "cell_type": "code",
   "execution_count": 20,
   "metadata": {
    "collapsed": true
   },
   "outputs": [],
   "source": [
    "# Fetch all URL relations\n",
    "urls = []\n",
    "for obj in data:\n",
    "    if obj['attributes']['relatedIdentifiers']:\n",
    "        for rel in obj['attributes']['relatedIdentifiers']:\n",
    "            if rel['relatedIdentifierType'] == 'URL':\n",
    "                urls.append(rel['relatedIdentifier']) "
   ]
  },
  {
   "cell_type": "code",
   "execution_count": 21,
   "metadata": {
    "collapsed": false
   },
   "outputs": [
    {
     "name": "stdout",
     "output_type": "stream",
     "text": [
      "Number of URLs: 86754\n",
      "Number of unique URLs: 61302\n"
     ]
    }
   ],
   "source": [
    "print('Number of URLs: {}'.format(len(urls)))\n",
    "print('Number of unique URLs: {}'.format(len(set(urls))))"
   ]
  },
  {
   "cell_type": "code",
   "execution_count": 22,
   "metadata": {
    "collapsed": false
   },
   "outputs": [
    {
     "name": "stdout",
     "output_type": "stream",
     "text": [
      "[('github.com', 81461),\n",
      " ('zenodo.org', 1723),\n",
      " ('maven.research-infrastructures.eu', 1461),\n",
      " ('dx.doi.org', 337),\n",
      " ('arxiv.org', 102),\n",
      " ('gitlab.com', 98),\n",
      " ('bitbucket.org', 67),\n",
      " ('research.csiro.au', 65),\n",
      " ('fmriprep.org', 54),\n",
      " ('pypi.org', 50)]\n"
     ]
    }
   ],
   "source": [
    "# Most popular domains:\n",
    "counter = collections.Counter(url.split('/')[2] for url in urls if '/' in url)\n",
    "pprint(counter.most_common(10))"
   ]
  },
  {
   "cell_type": "code",
   "execution_count": 23,
   "metadata": {
    "collapsed": false
   },
   "outputs": [
    {
     "name": "stdout",
     "output_type": "stream",
     "text": [
      "Unique URLs on Github: 59013\n",
      "Unique URLs on Zenodo: 277\n"
     ]
    }
   ],
   "source": [
    "unique_github_urls = set(url for url in urls if url.startswith('https://github.com/'))\n",
    "unique_zenodo_urls = set(url for url in urls if url.startswith('https://zenodo.org/'))\n",
    "print('Unique URLs on Github: {}'.format(len(unique_github_urls)))\n",
    "print('Unique URLs on Zenodo: {}'.format(len(unique_zenodo_urls)))"
   ]
  },
  {
   "cell_type": "code",
   "execution_count": 24,
   "metadata": {
    "collapsed": false
   },
   "outputs": [
    {
     "name": "stdout",
     "output_type": "stream",
     "text": [
      "Unique projects on Github: 22811\n",
      "Unique projects on Zenodo: 277\n"
     ]
    }
   ],
   "source": [
    "# Unique projects on GitHub (we transform\n",
    "# \"https://github.com/Organization/Project/blahblah\" into\n",
    "# (\"Organization\", \"Project\"):\n",
    "unique_github_projects = set(tuple(url.split('/')[3:5]) for url in unique_github_urls)\n",
    "# Unique projects on GitHub (we transform\n",
    "# \"https://zenodo.org/communities/project/blahblah\" into\n",
    "# \"project\":\n",
    "unique_zenodo_projects = set(url.split('/')[4] for url in unique_zenodo_urls)\n",
    "print('Unique projects on Github: {}'.format(len(unique_github_projects)))\n",
    "print('Unique projects on Zenodo: {}'.format(len(unique_zenodo_projects)))"
   ]
  },
  {
   "cell_type": "markdown",
   "metadata": {},
   "source": [
    "Note that 22811+277 approximately matches the ~23k software \"non-version\" we found earlier"
   ]
  },
  {
   "cell_type": "code",
   "execution_count": null,
   "metadata": {
    "collapsed": true
   },
   "outputs": [],
   "source": []
  }
 ],
 "metadata": {
  "kernelspec": {
   "display_name": "Python 3",
   "language": "python",
   "name": "python3"
  },
  "language_info": {
   "codemirror_mode": {
    "name": "ipython",
    "version": 3
   },
   "file_extension": ".py",
   "mimetype": "text/x-python",
   "name": "python",
   "nbconvert_exporter": "python",
   "pygments_lexer": "ipython3",
   "version": "3.5.3"
  }
 },
 "nbformat": 4,
 "nbformat_minor": 2
}
